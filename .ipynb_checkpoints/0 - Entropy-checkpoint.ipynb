{
 "cells": [
  {
   "cell_type": "markdown",
   "metadata": {},
   "source": [
    "# Entropía\n",
    "\n",
    "https://www.youtube.com/watch?v=2s3aJfRr9gE\n",
    "\n",
    "La entropía de una distribución es la mínima cantidad de preguntas promedio que tengo que hacer para conocer el resultado de ensayar una variable aleatoria.\n",
    "\n",
    "Si las preguntas son binarias (Si el resultado pertenece al subespacio muestreal A o al subespacio muestreal B), se mide en bits.\n",
    "\n",
    "Si las preguntas son ternarias (Si el resultado pertenece al subespacio muestreal A, B o C, se mide en trits).\n",
    "\n",
    "Analicemos en el pizarrón tres fuentes de símbolos A, B, C y D con las siguientes distribuciones:"
   ]
  },
  {
   "cell_type": "code",
   "execution_count": 1,
   "metadata": {},
   "outputs": [
    {
     "name": "stderr",
     "output_type": "stream",
     "text": [
      "\"wget\" no se reconoce como un comando interno o externo,\n",
      "programa o archivo por lotes ejecutable.\n"
     ]
    }
   ],
   "source": [
    "# Si está en colab\n",
    "!wget https://raw.githubusercontent.com/lab-ml-itba/Arboles-de-decision/master/src/helper.py"
   ]
  },
  {
   "cell_type": "code",
   "execution_count": 2,
   "metadata": {},
   "outputs": [],
   "source": [
    "# Si está local\n",
    "import sys\n",
    "sys.path.append('./src')"
   ]
  },
  {
   "cell_type": "code",
   "execution_count": 5,
   "metadata": {},
   "outputs": [],
   "source": [
    "%load_ext autoreload\n",
    "%autoreload 2\n",
    "import helper\n",
    "import numpy as np\n",
    "from matplotlib import pyplot as plt"
   ]
  },
  {
   "cell_type": "code",
   "execution_count": 4,
   "metadata": {},
   "outputs": [],
   "source": [
    "#dist={'A':0.25,'B':0.25,'C':0.25,'D':0.25} #defino la distribución a analizar\n",
    "dist={'A':0.5,'B':0.25,'C':0.125,'D':0.125} \n",
    "#dist={'A':0.97,'B':0.01,'C':0.01,'D':0.01}\n",
    "dist={'A':0.9,'B':0.1}"
   ]
  },
  {
   "cell_type": "markdown",
   "metadata": {},
   "source": [
    "Se puede demostrar que la entropía es:\n",
    "\n",
    "$$H(p)=\\sum_{k \\in K} p_k \\log\\frac{1}{p_k}=-\\sum_{k \\in K} p_k \\log{p_k}$$\n",
    "\n",
    "donde $\\log{p_k}$ corresponde a la cantidad de preguntas necesarias en el caso de que el valor de la variable aleatoria sea $k$.\n",
    "\n",
    "$p_k$ representa la probabilidad de tener que realizar esas $\\log{p_k}$ preguntas.\n",
    "\n",
    "Por lo tanto $H$ es la cantidad de preguntas promedio que uno tiene que realizar para conocer el valor de k, dado que se ensayó la variable aleatoria.\n",
    "\n",
    "Veamos cuánto vale la entropía para las distribuciones planteadas anteriormente."
   ]
  },
  {
   "cell_type": "code",
   "execution_count": 5,
   "metadata": {},
   "outputs": [
    {
     "data": {
      "text/plain": [
       "0.4689955935892812"
      ]
     },
     "execution_count": 5,
     "metadata": {},
     "output_type": "execute_result"
    }
   ],
   "source": [
    "helper.entropy(dist)"
   ]
  },
  {
   "cell_type": "markdown",
   "metadata": {},
   "source": [
    "## Arboles de Huffman\n",
    "\n",
    "Se puede demostrar que el árbol de Huffman es la implementación óptima de preguntas binarias que se deben realizar para conocer el símbolo generado.  \n",
    "El algoritmo de construcción del árbol puede resumirse así:\n",
    "\n",
    "* Crear un nodo hoja para cada símbolo, asociando un peso según su frecuencia de aparición e insertarlo en la lista ordenada ascendentemente.\n",
    "* Mientras haya más de un nodo en la lista:\n",
    "    * Eliminar los dos nodos con menor probabilidad de la lista.\n",
    "    * Crear un nuevo nodo interno que enlace a los nodos anteriores, asignándole como peso la suma de los pesos de los nodos hijos.\n",
    "    * Insertar el nuevo nodo en la lista, (en el lugar que le corresponda según el peso).\n",
    "* El nodo que quede es el nodo raíz del árbol.\n",
    "\n",
    "Construyamos en el pizarrón los árboles de Huffman pertenecientes a cada una de las distribuciones anteriores.\n"
   ]
  },
  {
   "cell_type": "code",
   "execution_count": 10,
   "metadata": {},
   "outputs": [
    {
     "name": "stdout",
     "output_type": "stream",
     "text": [
      "{'A': '0', 'B': '1'}\n"
     ]
    },
    {
     "data": {
      "text/plain": [
       "0.863121148140382"
      ]
     },
     "execution_count": 10,
     "metadata": {},
     "output_type": "execute_result"
    }
   ],
   "source": [
    "#dist={'A':0.25,'B':0.25,'C':0.25,'D':0.25} #defino la distribución a analizar\n",
    "dist={'A':0.285714,'B':0.714285}#,'C':0.05,'D':0.05} \n",
    "#dist={'A':0.97,'B':0.01,'C':0.01,'D':0.01} \n",
    "#dist={'A':0.75,'B':0.25} \n",
    "# Implementación del árbol de Huffman \n",
    "tree=helper.huffman(dist)\n",
    "print(tree) #Imprimo el árbolde Huffman\n",
    "helper.entropy(dist)"
   ]
  },
  {
   "cell_type": "markdown",
   "metadata": {},
   "source": [
    "Nos podemos acercar mas hacia el mínimo de preguntas, definido por la entropía, tomando los símbolos de a 2, 3, 4 etc:"
   ]
  },
  {
   "cell_type": "code",
   "execution_count": 8,
   "metadata": {},
   "outputs": [
    {
     "name": "stdout",
     "output_type": "stream",
     "text": [
      "Average code length: 1.0\n",
      "Entropy per symbol: 0.4689955935892812\n",
      "Average code length: 0.64\n",
      "Entropy per symbol: 0.46899559358928117\n",
      "Average code length: 0.53\n",
      "Entropy per symbol: 0.46899559358928117\n",
      "Average code length: 0.49\n",
      "Entropy per symbol: 0.468995593589281\n",
      "Average code length: 0.48\n",
      "Entropy per symbol: 0.4689955935892807\n"
     ]
    },
    {
     "data": {
      "image/png": "[encoded data removed]",
      "text/plain": [
       "<Figure size 432x288 with 1 Axes>"
      ]
     },
     "metadata": {},
     "output_type": "display_data"
    }
   ],
   "source": [
    "pregs=6\n",
    "aux=dist.copy()\n",
    "acl_list=list()\n",
    "entropy_list=list()\n",
    "for idx in range(1,pregs):\n",
    "    tree=helper.huffman(aux)\n",
    "    acl=0\n",
    "    for key,value in tree.items():\n",
    "        acl += len(value)*aux[key]/len(key)\n",
    "    acl=np.around(acl,decimals=2)\n",
    "    print(\"Average code length: {}\".format(acl))\n",
    "    key=list(aux.keys())[0]\n",
    "    print(\"Entropy per symbol: {}\".format(helper.entropy(aux)/len(key)))\n",
    "    acl_list.append(acl)\n",
    "    entropy_list.append(helper.entropy(dist))\n",
    "    aux=helper.combine(aux,dist)\n",
    "plt.plot(range(1,pregs),acl_list)\n",
    "plt.scatter(range(1,pregs),acl_list)\n",
    "plt.plot(range(1,pregs),entropy_list)\n",
    "plt.show()"
   ]
  },
  {
   "cell_type": "markdown",
   "metadata": {},
   "source": [
    "# Entropía cruzada\n",
    "\n",
    "Es la cantidad de preguntas mínima promedio que debo hacer para conocer el valor del ensayo de una variable aleatoria con distribución p, pero si la modelo con una distribución q.\n",
    "\n",
    "$$H(p,q)=\\sum_{k \\in K} p_k \\log\\frac{1}{q_k}=-\\sum_{k \\in K} p_k \\log{q_k}= H(p) + D(p||q)$$\n",
    "\n",
    "$D(p||q)$: divergencia Kullback–Leibler\n",
    "\n",
    "$$D(p||q)=\\sum_{k \\in K}p_k\\log\\frac{p_k}{q_k}$$\n",
    "\n",
    "Nótese que cuando q y p son iguales la divergencia KL vale cero.\n",
    "La divergencia KL da una idea de \"distancia\" entre las dos distribuciones. Formalmente no es una distancia porque $D(p||q) \\neq D(q||p)$.\n"
   ]
  },
  {
   "cell_type": "code",
   "execution_count": null,
   "metadata": {},
   "outputs": [],
   "source": []
  },
  {
   "cell_type": "code",
   "execution_count": null,
   "metadata": {},
   "outputs": [],
   "source": []
  }
 ],
 "metadata": {
  "kernelspec": {
   "display_name": "Python 3",
   "language": "python",
   "name": "python3"
  },
  "language_info": {
   "codemirror_mode": {
    "name": "ipython",
    "version": 3
   },
   "file_extension": ".py",
   "mimetype": "text/x-python",
   "name": "python",
   "nbconvert_exporter": "python",
   "pygments_lexer": "ipython3",
   "version": "3.6.12"
  }
 },
 "nbformat": 4,
 "nbformat_minor": 4
}
